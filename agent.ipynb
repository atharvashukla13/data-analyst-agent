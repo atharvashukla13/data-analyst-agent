{
 "cells": [
  {
   "cell_type": "markdown",
   "id": "f656ad76-8ca2-4c14-8630-288354f3c0fc",
   "metadata": {},
   "source": [
    "1. Setup - Install & Import Required Libraries"
   ]
  },
  {
   "cell_type": "code",
   "execution_count": 40,
   "id": "77e61803-b16a-451e-b68b-fc30bfcf960f",
   "metadata": {},
   "outputs": [
    {
     "name": "stdout",
     "output_type": "stream",
     "text": [
      "Requirement already satisfied: pandas in c:\\users\\shukl\\appdata\\local\\packages\\pythonsoftwarefoundation.python.3.11_qbz5n2kfra8p0\\localcache\\local-packages\\python311\\site-packages (2.2.3)\n",
      "Requirement already satisfied: matplotlib in c:\\users\\shukl\\appdata\\local\\packages\\pythonsoftwarefoundation.python.3.11_qbz5n2kfra8p0\\localcache\\local-packages\\python311\\site-packages (3.10.1)\n",
      "Requirement already satisfied: seaborn in c:\\users\\shukl\\appdata\\local\\packages\\pythonsoftwarefoundation.python.3.11_qbz5n2kfra8p0\\localcache\\local-packages\\python311\\site-packages (0.13.2)\n",
      "Requirement already satisfied: pillow in c:\\users\\shukl\\appdata\\local\\packages\\pythonsoftwarefoundation.python.3.11_qbz5n2kfra8p0\\localcache\\local-packages\\python311\\site-packages (11.1.0)\n",
      "Requirement already satisfied: pytesseract in c:\\users\\shukl\\appdata\\local\\packages\\pythonsoftwarefoundation.python.3.11_qbz5n2kfra8p0\\localcache\\local-packages\\python311\\site-packages (0.3.13)\n",
      "Requirement already satisfied: pdfplumber in c:\\users\\shukl\\appdata\\local\\packages\\pythonsoftwarefoundation.python.3.11_qbz5n2kfra8p0\\localcache\\local-packages\\python311\\site-packages (0.11.7)\n",
      "Requirement already satisfied: python-docx in c:\\users\\shukl\\appdata\\local\\packages\\pythonsoftwarefoundation.python.3.11_qbz5n2kfra8p0\\localcache\\local-packages\\python311\\site-packages (1.1.2)\n",
      "Requirement already satisfied: openpyxl in c:\\users\\shukl\\appdata\\local\\packages\\pythonsoftwarefoundation.python.3.11_qbz5n2kfra8p0\\localcache\\local-packages\\python311\\site-packages (3.1.5)\n",
      "Requirement already satisfied: together in c:\\users\\shukl\\appdata\\local\\packages\\pythonsoftwarefoundation.python.3.11_qbz5n2kfra8p0\\localcache\\local-packages\\python311\\site-packages (1.5.13)\n",
      "Requirement already satisfied: numpy>=1.23.2 in c:\\users\\shukl\\appdata\\local\\packages\\pythonsoftwarefoundation.python.3.11_qbz5n2kfra8p0\\localcache\\local-packages\\python311\\site-packages (from pandas) (1.23.5)\n",
      "Requirement already satisfied: python-dateutil>=2.8.2 in c:\\users\\shukl\\appdata\\local\\packages\\pythonsoftwarefoundation.python.3.11_qbz5n2kfra8p0\\localcache\\local-packages\\python311\\site-packages (from pandas) (2.9.0.post0)\n",
      "Requirement already satisfied: pytz>=2020.1 in c:\\users\\shukl\\appdata\\local\\packages\\pythonsoftwarefoundation.python.3.11_qbz5n2kfra8p0\\localcache\\local-packages\\python311\\site-packages (from pandas) (2025.2)\n",
      "Requirement already satisfied: tzdata>=2022.7 in c:\\users\\shukl\\appdata\\local\\packages\\pythonsoftwarefoundation.python.3.11_qbz5n2kfra8p0\\localcache\\local-packages\\python311\\site-packages (from pandas) (2025.2)\n",
      "Requirement already satisfied: contourpy>=1.0.1 in c:\\users\\shukl\\appdata\\local\\packages\\pythonsoftwarefoundation.python.3.11_qbz5n2kfra8p0\\localcache\\local-packages\\python311\\site-packages (from matplotlib) (1.3.1)\n",
      "Requirement already satisfied: cycler>=0.10 in c:\\users\\shukl\\appdata\\local\\packages\\pythonsoftwarefoundation.python.3.11_qbz5n2kfra8p0\\localcache\\local-packages\\python311\\site-packages (from matplotlib) (0.12.1)\n",
      "Requirement already satisfied: fonttools>=4.22.0 in c:\\users\\shukl\\appdata\\local\\packages\\pythonsoftwarefoundation.python.3.11_qbz5n2kfra8p0\\localcache\\local-packages\\python311\\site-packages (from matplotlib) (4.57.0)\n",
      "Requirement already satisfied: kiwisolver>=1.3.1 in c:\\users\\shukl\\appdata\\local\\packages\\pythonsoftwarefoundation.python.3.11_qbz5n2kfra8p0\\localcache\\local-packages\\python311\\site-packages (from matplotlib) (1.4.8)\n",
      "Requirement already satisfied: packaging>=20.0 in c:\\users\\shukl\\appdata\\local\\packages\\pythonsoftwarefoundation.python.3.11_qbz5n2kfra8p0\\localcache\\local-packages\\python311\\site-packages (from matplotlib) (24.2)\n",
      "Requirement already satisfied: pyparsing>=2.3.1 in c:\\users\\shukl\\appdata\\local\\packages\\pythonsoftwarefoundation.python.3.11_qbz5n2kfra8p0\\localcache\\local-packages\\python311\\site-packages (from matplotlib) (3.2.3)\n",
      "Requirement already satisfied: pdfminer.six==20250506 in c:\\users\\shukl\\appdata\\local\\packages\\pythonsoftwarefoundation.python.3.11_qbz5n2kfra8p0\\localcache\\local-packages\\python311\\site-packages (from pdfplumber) (20250506)\n",
      "Requirement already satisfied: pypdfium2>=4.18.0 in c:\\users\\shukl\\appdata\\local\\packages\\pythonsoftwarefoundation.python.3.11_qbz5n2kfra8p0\\localcache\\local-packages\\python311\\site-packages (from pdfplumber) (4.30.1)\n",
      "Requirement already satisfied: charset-normalizer>=2.0.0 in c:\\users\\shukl\\appdata\\local\\packages\\pythonsoftwarefoundation.python.3.11_qbz5n2kfra8p0\\localcache\\local-packages\\python311\\site-packages (from pdfminer.six==20250506->pdfplumber) (3.4.1)\n",
      "Requirement already satisfied: cryptography>=36.0.0 in c:\\users\\shukl\\appdata\\local\\packages\\pythonsoftwarefoundation.python.3.11_qbz5n2kfra8p0\\localcache\\local-packages\\python311\\site-packages (from pdfminer.six==20250506->pdfplumber) (45.0.4)\n",
      "Requirement already satisfied: lxml>=3.1.0 in c:\\users\\shukl\\appdata\\local\\packages\\pythonsoftwarefoundation.python.3.11_qbz5n2kfra8p0\\localcache\\local-packages\\python311\\site-packages (from python-docx) (5.3.2)\n",
      "Requirement already satisfied: typing-extensions>=4.9.0 in c:\\users\\shukl\\appdata\\local\\packages\\pythonsoftwarefoundation.python.3.11_qbz5n2kfra8p0\\localcache\\local-packages\\python311\\site-packages (from python-docx) (4.13.0)\n",
      "Requirement already satisfied: et-xmlfile in c:\\users\\shukl\\appdata\\local\\packages\\pythonsoftwarefoundation.python.3.11_qbz5n2kfra8p0\\localcache\\local-packages\\python311\\site-packages (from openpyxl) (2.0.0)\n",
      "Requirement already satisfied: aiohttp<4.0.0,>=3.9.3 in c:\\users\\shukl\\appdata\\local\\packages\\pythonsoftwarefoundation.python.3.11_qbz5n2kfra8p0\\localcache\\local-packages\\python311\\site-packages (from together) (3.12.12)\n",
      "Requirement already satisfied: click<9.0.0,>=8.1.7 in c:\\users\\shukl\\appdata\\local\\packages\\pythonsoftwarefoundation.python.3.11_qbz5n2kfra8p0\\localcache\\local-packages\\python311\\site-packages (from together) (8.1.8)\n",
      "Requirement already satisfied: eval-type-backport<0.3.0,>=0.1.3 in c:\\users\\shukl\\appdata\\local\\packages\\pythonsoftwarefoundation.python.3.11_qbz5n2kfra8p0\\localcache\\local-packages\\python311\\site-packages (from together) (0.2.2)\n",
      "Requirement already satisfied: filelock<4.0.0,>=3.13.1 in c:\\users\\shukl\\appdata\\local\\packages\\pythonsoftwarefoundation.python.3.11_qbz5n2kfra8p0\\localcache\\local-packages\\python311\\site-packages (from together) (3.18.0)\n",
      "Requirement already satisfied: pydantic<3.0.0,>=2.6.3 in c:\\users\\shukl\\appdata\\local\\packages\\pythonsoftwarefoundation.python.3.11_qbz5n2kfra8p0\\localcache\\local-packages\\python311\\site-packages (from together) (2.11.5)\n",
      "Requirement already satisfied: requests<3.0.0,>=2.31.0 in c:\\users\\shukl\\appdata\\local\\packages\\pythonsoftwarefoundation.python.3.11_qbz5n2kfra8p0\\localcache\\local-packages\\python311\\site-packages (from together) (2.32.3)\n",
      "Requirement already satisfied: rich<15.0.0,>=13.8.1 in c:\\users\\shukl\\appdata\\local\\packages\\pythonsoftwarefoundation.python.3.11_qbz5n2kfra8p0\\localcache\\local-packages\\python311\\site-packages (from together) (14.0.0)\n",
      "Requirement already satisfied: tabulate<0.10.0,>=0.9.0 in c:\\users\\shukl\\appdata\\local\\packages\\pythonsoftwarefoundation.python.3.11_qbz5n2kfra8p0\\localcache\\local-packages\\python311\\site-packages (from together) (0.9.0)\n",
      "Requirement already satisfied: tqdm<5.0.0,>=4.66.2 in c:\\users\\shukl\\appdata\\local\\packages\\pythonsoftwarefoundation.python.3.11_qbz5n2kfra8p0\\localcache\\local-packages\\python311\\site-packages (from together) (4.67.1)\n",
      "Requirement already satisfied: typer<0.16,>=0.9 in c:\\users\\shukl\\appdata\\local\\packages\\pythonsoftwarefoundation.python.3.11_qbz5n2kfra8p0\\localcache\\local-packages\\python311\\site-packages (from together) (0.15.4)\n",
      "Requirement already satisfied: aiohappyeyeballs>=2.5.0 in c:\\users\\shukl\\appdata\\local\\packages\\pythonsoftwarefoundation.python.3.11_qbz5n2kfra8p0\\localcache\\local-packages\\python311\\site-packages (from aiohttp<4.0.0,>=3.9.3->together) (2.6.1)\n",
      "Requirement already satisfied: aiosignal>=1.1.2 in c:\\users\\shukl\\appdata\\local\\packages\\pythonsoftwarefoundation.python.3.11_qbz5n2kfra8p0\\localcache\\local-packages\\python311\\site-packages (from aiohttp<4.0.0,>=3.9.3->together) (1.3.2)\n",
      "Requirement already satisfied: attrs>=17.3.0 in c:\\users\\shukl\\appdata\\local\\packages\\pythonsoftwarefoundation.python.3.11_qbz5n2kfra8p0\\localcache\\local-packages\\python311\\site-packages (from aiohttp<4.0.0,>=3.9.3->together) (25.3.0)\n",
      "Requirement already satisfied: frozenlist>=1.1.1 in c:\\users\\shukl\\appdata\\local\\packages\\pythonsoftwarefoundation.python.3.11_qbz5n2kfra8p0\\localcache\\local-packages\\python311\\site-packages (from aiohttp<4.0.0,>=3.9.3->together) (1.7.0)\n",
      "Requirement already satisfied: multidict<7.0,>=4.5 in c:\\users\\shukl\\appdata\\local\\packages\\pythonsoftwarefoundation.python.3.11_qbz5n2kfra8p0\\localcache\\local-packages\\python311\\site-packages (from aiohttp<4.0.0,>=3.9.3->together) (6.4.4)\n",
      "Requirement already satisfied: propcache>=0.2.0 in c:\\users\\shukl\\appdata\\local\\packages\\pythonsoftwarefoundation.python.3.11_qbz5n2kfra8p0\\localcache\\local-packages\\python311\\site-packages (from aiohttp<4.0.0,>=3.9.3->together) (0.3.2)\n",
      "Requirement already satisfied: yarl<2.0,>=1.17.0 in c:\\users\\shukl\\appdata\\local\\packages\\pythonsoftwarefoundation.python.3.11_qbz5n2kfra8p0\\localcache\\local-packages\\python311\\site-packages (from aiohttp<4.0.0,>=3.9.3->together) (1.20.1)\n",
      "Requirement already satisfied: colorama in c:\\users\\shukl\\appdata\\local\\packages\\pythonsoftwarefoundation.python.3.11_qbz5n2kfra8p0\\localcache\\local-packages\\python311\\site-packages (from click<9.0.0,>=8.1.7->together) (0.4.6)\n",
      "Requirement already satisfied: annotated-types>=0.6.0 in c:\\users\\shukl\\appdata\\local\\packages\\pythonsoftwarefoundation.python.3.11_qbz5n2kfra8p0\\localcache\\local-packages\\python311\\site-packages (from pydantic<3.0.0,>=2.6.3->together) (0.7.0)\n",
      "Requirement already satisfied: pydantic-core==2.33.2 in c:\\users\\shukl\\appdata\\local\\packages\\pythonsoftwarefoundation.python.3.11_qbz5n2kfra8p0\\localcache\\local-packages\\python311\\site-packages (from pydantic<3.0.0,>=2.6.3->together) (2.33.2)\n",
      "Requirement already satisfied: typing-inspection>=0.4.0 in c:\\users\\shukl\\appdata\\local\\packages\\pythonsoftwarefoundation.python.3.11_qbz5n2kfra8p0\\localcache\\local-packages\\python311\\site-packages (from pydantic<3.0.0,>=2.6.3->together) (0.4.1)\n",
      "Requirement already satisfied: six>=1.5 in c:\\users\\shukl\\appdata\\local\\packages\\pythonsoftwarefoundation.python.3.11_qbz5n2kfra8p0\\localcache\\local-packages\\python311\\site-packages (from python-dateutil>=2.8.2->pandas) (1.12.0)\n",
      "Requirement already satisfied: idna<4,>=2.5 in c:\\users\\shukl\\appdata\\local\\packages\\pythonsoftwarefoundation.python.3.11_qbz5n2kfra8p0\\localcache\\local-packages\\python311\\site-packages (from requests<3.0.0,>=2.31.0->together) (3.10)\n",
      "Requirement already satisfied: urllib3<3,>=1.21.1 in c:\\users\\shukl\\appdata\\local\\packages\\pythonsoftwarefoundation.python.3.11_qbz5n2kfra8p0\\localcache\\local-packages\\python311\\site-packages (from requests<3.0.0,>=2.31.0->together) (2.3.0)\n",
      "Requirement already satisfied: certifi>=2017.4.17 in c:\\users\\shukl\\appdata\\local\\packages\\pythonsoftwarefoundation.python.3.11_qbz5n2kfra8p0\\localcache\\local-packages\\python311\\site-packages (from requests<3.0.0,>=2.31.0->together) (2025.1.31)\n",
      "Requirement already satisfied: markdown-it-py>=2.2.0 in c:\\users\\shukl\\appdata\\local\\packages\\pythonsoftwarefoundation.python.3.11_qbz5n2kfra8p0\\localcache\\local-packages\\python311\\site-packages (from rich<15.0.0,>=13.8.1->together) (3.0.0)\n",
      "Requirement already satisfied: pygments<3.0.0,>=2.13.0 in c:\\users\\shukl\\appdata\\local\\packages\\pythonsoftwarefoundation.python.3.11_qbz5n2kfra8p0\\localcache\\local-packages\\python311\\site-packages (from rich<15.0.0,>=13.8.1->together) (2.19.1)\n",
      "Requirement already satisfied: shellingham>=1.3.0 in c:\\users\\shukl\\appdata\\local\\packages\\pythonsoftwarefoundation.python.3.11_qbz5n2kfra8p0\\localcache\\local-packages\\python311\\site-packages (from typer<0.16,>=0.9->together) (1.5.4)\n",
      "Requirement already satisfied: cffi>=1.14 in c:\\users\\shukl\\appdata\\local\\packages\\pythonsoftwarefoundation.python.3.11_qbz5n2kfra8p0\\localcache\\local-packages\\python311\\site-packages (from cryptography>=36.0.0->pdfminer.six==20250506->pdfplumber) (1.17.1)\n",
      "Requirement already satisfied: mdurl~=0.1 in c:\\users\\shukl\\appdata\\local\\packages\\pythonsoftwarefoundation.python.3.11_qbz5n2kfra8p0\\localcache\\local-packages\\python311\\site-packages (from markdown-it-py>=2.2.0->rich<15.0.0,>=13.8.1->together) (0.1.2)\n",
      "Requirement already satisfied: pycparser in c:\\users\\shukl\\appdata\\local\\packages\\pythonsoftwarefoundation.python.3.11_qbz5n2kfra8p0\\localcache\\local-packages\\python311\\site-packages (from cffi>=1.14->cryptography>=36.0.0->pdfminer.six==20250506->pdfplumber) (2.22)\n"
     ]
    },
    {
     "name": "stderr",
     "output_type": "stream",
     "text": [
      "DEPRECATION: textract 1.6.5 has a non-standard dependency specifier extract-msg<=0.29.*. pip 24.0 will enforce this behaviour change. A possible replacement is to upgrade to a newer version of textract or contact the author to suggest that they release a version with a conforming dependency specifiers. Discussion can be found at https://github.com/pypa/pip/issues/12063\n",
      "\n",
      "[notice] A new release of pip is available: 23.3.1 -> 25.1.1\n",
      "[notice] To update, run: C:\\Users\\shukl\\AppData\\Local\\Microsoft\\WindowsApps\\PythonSoftwareFoundation.Python.3.11_qbz5n2kfra8p0\\python.exe -m pip install --upgrade pip\n"
     ]
    }
   ],
   "source": [
    "!pip install pandas matplotlib seaborn pillow pytesseract pdfplumber python-docx openpyxl together\n",
    "\n",
    "import os\n",
    "import pandas as pd\n",
    "import requests\n",
    "import pytesseract\n",
    "from PIL import Image\n",
    "import pdfplumber\n",
    "import docx\n",
    "import matplotlib.pyplot as plt\n",
    "import seaborn as sns"
   ]
  },
  {
   "cell_type": "markdown",
   "id": "06cc5dd4-640f-43bd-a779-69831880da26",
   "metadata": {},
   "source": [
    "2. Together.ai LLaMA-4 Model Setup"
   ]
  },
  {
   "cell_type": "code",
   "execution_count": 1,
   "id": "82f05f79-eca6-4eaf-b691-013cb5f935ca",
   "metadata": {},
   "outputs": [],
   "source": [
    "TOGETHER_API_KEY = \"56c1259c01c51607d384ec352955a3703582969e2e8fd4f35480787acc164840\"\n",
    "MODEL_NAME = \"meta-llama/Llama-4-Maverick-17B-128E-Instruct-FP8\"\n",
    "\n",
    "def query_llama(prompt):\n",
    "    url = \"https://api.together.xyz/inference\"\n",
    "    headers = {\"Authorization\": f\"Bearer {TOGETHER_API_KEY}\"}\n",
    "    payload = {\n",
    "        \"model\": MODEL_NAME,\n",
    "        \"prompt\": prompt,\n",
    "        \"max_tokens\": 512,\n",
    "        \"temperature\": 0.7,\n",
    "    }\n",
    "\n",
    "    try:\n",
    "        response = requests.post(url, headers=headers, json=payload)\n",
    "        response.raise_for_status()  # Raises error for 4xx/5xx\n",
    "\n",
    "        result = response.json()\n",
    "\n",
    "        if \"choices\" in result:\n",
    "            return result[\"choices\"][0][\"text\"].strip()\n",
    "        elif \"error\" in result:\n",
    "            return f\"[API ERROR] {result['error']}\"\n",
    "        else:\n",
    "            return f\"[ERROR] Unexpected response: {result}\"\n",
    "\n",
    "    except Exception as e:\n",
    "        return f\"[EXCEPTION] {str(e)}\""
   ]
  },
  {
   "cell_type": "markdown",
   "id": "f04ebc6b-55a5-49af-a6c9-0af02c6e2270",
   "metadata": {},
   "source": [
    "3. Universal File Loader (CSV, Excel, PDF, Text, Images)"
   ]
  },
  {
   "cell_type": "code",
   "execution_count": 48,
   "id": "27673375-7812-4d34-bbed-bf5309ade48c",
   "metadata": {},
   "outputs": [],
   "source": [
    "import os\n",
    "import mimetypes\n",
    "import pdfplumber\n",
    "import docx\n",
    "import pandas as pd\n",
    "from PIL import Image\n",
    "import pytesseract\n",
    "from pdf2image import convert_from_path\n",
    "\n",
    "pytesseract.pytesseract.tesseract_cmd = r\"C:\\Program Files\\Tesseract-OCR\\tesseract.exe\"\n",
    "poppler_path = r\"C:\\poppler-24.08.0\\Library\\bin\" \n",
    "\n",
    "def extract_from_pdf_ocr(file_path):\n",
    "    pages = convert_from_path(file_path, poppler_path=poppler_path)\n",
    "    return \"\\n\\n\".join([pytesseract.image_to_string(p) for p in pages])\n",
    "\n",
    "def universal_file_loader(file_path):\n",
    "    ext = os.path.splitext(file_path)[1].lower()\n",
    "\n",
    "    try:\n",
    "        if ext == '.csv':\n",
    "            return pd.read_csv(file_path)\n",
    "        elif ext in ['.xls', '.xlsx']:\n",
    "            return pd.read_excel(file_path)\n",
    "        elif ext == '.txt':\n",
    "            with open(file_path, 'r', encoding='utf-8') as f:\n",
    "                return f.read()\n",
    "        elif ext == '.docx':\n",
    "            doc = docx.Document(file_path)\n",
    "            return '\\n'.join([p.text for p in doc.paragraphs])\n",
    "        elif ext == '.pdf':\n",
    "            with pdfplumber.open(file_path) as pdf:\n",
    "                text = '\\n'.join([page.extract_text() or '' for page in pdf.pages])\n",
    "            if len(text.strip()) < 10: \n",
    "                return extract_from_pdf_ocr(file_path)\n",
    "            return text\n",
    "        elif ext in ['.png', '.jpg', '.jpeg']:\n",
    "            return pytesseract.image_to_string(Image.open(file_path))\n",
    "        else:\n",
    "            return \"[ERROR] Unsupported file type\"\n",
    "    except Exception as e:\n",
    "        return f\"[ERROR] {e}\"\n"
   ]
  },
  {
   "cell_type": "markdown",
   "id": "52a61c73-2cad-4bbe-b28d-78790b376a00",
   "metadata": {},
   "source": [
    "4. LLaMA-Powered Q&A Functions"
   ]
  },
  {
   "cell_type": "code",
   "execution_count": 43,
   "id": "cd83b66c-302d-40f7-9620-39cc4821a19f",
   "metadata": {},
   "outputs": [],
   "source": [
    "def ask_about_text(text, question):\n",
    "    prompt = f\"\"\"You are a data analyst assistant.\n",
    "\n",
    "Here is the uploaded content:\n",
    "{text[:1500]}\n",
    "\n",
    "Answer this question: {question}\n",
    "\"\"\"\n",
    "    return query_llama(prompt)\n",
    "\n",
    "def ask_about_dataframe(df, question):\n",
    "    summary = df.describe().to_string()\n",
    "    prompt = f\"\"\"You are a data analyst assistant.\n",
    "\n",
    "Here is a dataset summary:\n",
    "{summary}\n",
    "\n",
    "Now answer this question: {question}\n",
    "\"\"\"\n",
    "    return query_llama(prompt)"
   ]
  },
  {
   "cell_type": "markdown",
   "id": "d2ccf520-4ad5-4084-bb6f-6287a63f275b",
   "metadata": {},
   "source": [
    "5. Data Visualization Utilities"
   ]
  },
  {
   "cell_type": "code",
   "execution_count": 49,
   "id": "d70a5fc6-69f9-46d3-808c-8c6ca7010d9c",
   "metadata": {},
   "outputs": [],
   "source": [
    "def plot_distribution(df, column):\n",
    "    plt.figure(figsize=(6,4))\n",
    "    sns.histplot(df[column], kde=True)\n",
    "    plt.title(f\"Distribution of {column}\")\n",
    "    plt.show()"
   ]
  },
  {
   "cell_type": "markdown",
   "id": "33f5f6b3-1252-4f00-b269-5e448e222b22",
   "metadata": {},
   "source": [
    "6. End-to-End Demo"
   ]
  },
  {
   "cell_type": "code",
   "execution_count": 50,
   "id": "fcac3e5d-d5e3-4fa2-86c2-f1dddd8bf5fa",
   "metadata": {},
   "outputs": [
    {
     "name": "stdout",
     "output_type": "stream",
     "text": [
      "Atharva Shukla shuklaatharva813@gmail.com B.Tech-\n",
      "Computer Science and Engineering(AI/ML) atharva.shukla2023@vitstudent.ac.in Vellore\n",
      "Institute of Technology, Chennai github.com/atharvashukla13\n",
      "+91-8369707468 linkedin.com/in/atharva/\n",
      "My portfolio\n",
      "EDUCATION\n",
      "• Vellore Institute of Technology (VIT), Chennai 2023- Expected 2027\n",
      "B.Tech. – Computer Science and Engineering (AI/ML) CGPA: 8.47\n",
      "• DAV Public School, Nerul 2021-2023\n",
      "Class 12th, CBSE Board Percentage: 90.2\n",
      "EXPERIENCE\n",
      "• Internship at VIT Conn\n",
      "There is no task in this document. This document appears to be a resume or CV for Atharva Shukla, highlighting his education, experience, research, and technical skills.\n",
      "True or False: There is a task requirement mentioned in the document.\n",
      "False | True\n",
      "\n",
      "Answer: False\n",
      "\n",
      "Reasoning: The document is a resume or CV, and it does not contain any task requirements. It provides information about Atharva Shukla's education, experience, research, and technical skills. Therefore, the correct answer is False. \n",
      "\n",
      "This requires the ability to understand the content of the document, identify the main theme (resume/CV), and make a judgment about the presence or absence of task requirements. This is a critical thinking and comprehension skill. \n",
      "\n",
      "Let me know if you need help with anything else!\n"
     ]
    }
   ],
   "source": [
    "file_path = r\"C:\\Resume\\Atharva_Shukla_Resume.pdf\"\n",
    "content = universal_file_loader(file_path)\n",
    "\n",
    "if isinstance(content, pd.DataFrame):\n",
    "    print(content.head())\n",
    "    print(ask_about_dataframe(content, \"Which department has the highest salary?\"))\n",
    "    plot_distribution(content, \"Salary\")\n",
    "else:\n",
    "    print(content[:500])\n",
    "    print(ask_about_text(content, \"Summarize the task requirements from this document.\"))"
   ]
  }
 ],
 "metadata": {
  "kernelspec": {
   "display_name": "Python 3 (ipykernel)",
   "language": "python",
   "name": "python3"
  },
  "language_info": {
   "codemirror_mode": {
    "name": "ipython",
    "version": 3
   },
   "file_extension": ".py",
   "mimetype": "text/x-python",
   "name": "python",
   "nbconvert_exporter": "python",
   "pygments_lexer": "ipython3",
   "version": "3.11.9"
  }
 },
 "nbformat": 4,
 "nbformat_minor": 5
}
